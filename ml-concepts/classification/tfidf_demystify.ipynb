{
 "cells": [
  {
   "cell_type": "markdown",
   "id": "99b3f1f0-ec8c-4162-81b9-95684b65d5eb",
   "metadata": {},
   "source": [
    "## Demystifying TF-IDF Vectorization Concept\n",
    "TF-IDF (Term Frequency-Inverse Document Frequency) is a statistical measure used in natural language processing (NLP) and information retrieval to determine how important a word is in a document relative to a collection (or corpus) of documents. It helps identify key terms that best represent the content of a document.\n",
    "\n",
    "- TF (Term Frequency) measures how often a word appears in a document.    \n",
    "- IDF (Inverse Document Frequency) reduces the weight of common words and highlights unique ones.\n",
    "- TF-IDF Score = TF × IDF → Higher scores mean the word is important in that document but rare across others.\n"
   ]
  },
  {
   "cell_type": "code",
   "execution_count": 1,
   "id": "f21c51b9-0df4-4cc4-b35b-3d91d2f63394",
   "metadata": {},
   "outputs": [],
   "source": [
    "from sklearn.feature_extraction.text import TfidfVectorizer"
   ]
  },
  {
   "cell_type": "code",
   "execution_count": 2,
   "id": "ee9fb105-4319-442a-841b-76d4b5107ce1",
   "metadata": {},
   "outputs": [],
   "source": [
    "corpus = ['Term Frequency measures how often a word appears in a document',\n",
    "         'Inverse Document Frequency reduces the weight of common words and highlights unique ones',\n",
    "         'Higher scores mean the word is important in that document but rare across others']"
   ]
  },
  {
   "cell_type": "code",
   "execution_count": 3,
   "id": "ddbb4731-12c8-4b36-a9a0-422a3b99f402",
   "metadata": {},
   "outputs": [],
   "source": [
    "tfidf = TfidfVectorizer()"
   ]
  },
  {
   "cell_type": "code",
   "execution_count": 4,
   "id": "76ce55f9-fdb8-4c45-a226-086ec6330863",
   "metadata": {},
   "outputs": [],
   "source": [
    "# Pass the corpus and transform the words into vectors\n",
    "# The response is in Compressed Sparse Row (CSR)\n",
    "csr_transformed_vector = tfidf.fit_transform(corpus)"
   ]
  },
  {
   "cell_type": "code",
   "execution_count": 5,
   "id": "f55b6a2a-7b0f-4d41-88a8-739e9ef48190",
   "metadata": {},
   "outputs": [
    {
     "name": "stdout",
     "output_type": "stream",
     "text": [
      "{'term': 23, 'frequency': 6, 'measures': 15, 'how': 9, 'often': 17, 'word': 28, 'appears': 2, 'in': 11, 'document': 5, 'inverse': 12, 'reduces': 21, 'the': 25, 'weight': 27, 'of': 16, 'common': 4, 'words': 29, 'and': 1, 'highlights': 8, 'unique': 26, 'ones': 18, 'higher': 7, 'scores': 22, 'mean': 14, 'is': 13, 'important': 10, 'that': 24, 'but': 3, 'rare': 20, 'across': 0, 'others': 19}\n"
     ]
    }
   ],
   "source": [
    "# Each unique word is assigned a number from 0 to n ( n = Number of unique words in the corpus). \n",
    "# The order of numbering is based on alphabetical order of the words\n",
    "print(tfidf.vocabulary_)"
   ]
  },
  {
   "cell_type": "code",
   "execution_count": 6,
   "id": "74e72cb4-c627-495b-9c1f-b41d1a9fb371",
   "metadata": {},
   "outputs": [
    {
     "name": "stdout",
     "output_type": "stream",
     "text": [
      "<Compressed Sparse Row sparse matrix of dtype 'float64'\n",
      "\twith 9 stored elements and shape (1, 30)>\n",
      "  Coords\tValues\n",
      "  (0, 23)\t0.3757162113174268\n",
      "  (0, 6)\t0.28574186296253085\n",
      "  (0, 15)\t0.3757162113174268\n",
      "  (0, 9)\t0.3757162113174268\n",
      "  (0, 17)\t0.3757162113174268\n",
      "  (0, 28)\t0.28574186296253085\n",
      "  (0, 2)\t0.3757162113174268\n",
      "  (0, 11)\t0.28574186296253085\n",
      "  (0, 5)\t0.221904046872743\n"
     ]
    }
   ],
   "source": [
    "# Coords => The row indicate sentence position in the corpus, column indicates the unique word (vocabulary)\n",
    "# Values => The weight assigned to the word based on Tfidf statistical calculation\n",
    "print(csr_transformed_vector[:1])"
   ]
  },
  {
   "cell_type": "markdown",
   "id": "ec71af9a-7871-46b1-853f-f176e7597154",
   "metadata": {},
   "source": [
    "### Print the CSR Transformed Vector \n",
    "Below steps are just for displaying the transformed vector for better understanding the relationship between the words and vectors in a given corpus"
   ]
  },
  {
   "cell_type": "code",
   "execution_count": 7,
   "id": "bcbebef7-69b3-4e2d-9058-f73dd0fe9e73",
   "metadata": {},
   "outputs": [
    {
     "name": "stdout",
     "output_type": "stream",
     "text": [
      "{23: 'term', 6: 'frequency', 15: 'measures', 9: 'how', 17: 'often', 28: 'word', 2: 'appears', 11: 'in', 5: 'document', 12: 'inverse', 21: 'reduces', 25: 'the', 27: 'weight', 16: 'of', 4: 'common', 29: 'words', 1: 'and', 8: 'highlights', 26: 'unique', 18: 'ones', 7: 'higher', 22: 'scores', 14: 'mean', 13: 'is', 10: 'important', 24: 'that', 3: 'but', 20: 'rare', 0: 'across', 19: 'others'}\n"
     ]
    }
   ],
   "source": [
    "# Reversed the key: value of the vocabulary for displaying the word instead of number for better understanding\n",
    "reversed_vocabulary_dict = {v: k for k, v in tfidf.vocabulary_.items()}\n",
    "print(reversed_vocabulary_dict)"
   ]
  },
  {
   "cell_type": "code",
   "execution_count": 8,
   "id": "9e20ae97-452d-4a01-ad9a-9e1c85907b0e",
   "metadata": {},
   "outputs": [
    {
     "name": "stdout",
     "output_type": "stream",
     "text": [
      "(0, term) -> 0.3757162113174268\n",
      "(0, frequency) -> 0.28574186296253085\n",
      "(0, measures) -> 0.3757162113174268\n",
      "(0, how) -> 0.3757162113174268\n",
      "(0, often) -> 0.3757162113174268\n",
      "(0, word) -> 0.28574186296253085\n",
      "(0, appears) -> 0.3757162113174268\n",
      "(0, in) -> 0.28574186296253085\n",
      "(0, document) -> 0.221904046872743\n",
      "(1, frequency) -> 0.22421197567463094\n",
      "(1, document) -> 0.1741206004737842\n",
      "(1, inverse) -> 0.2948118037695924\n",
      "(1, reduces) -> 0.2948118037695924\n",
      "(1, the) -> 0.22421197567463094\n",
      "(1, weight) -> 0.2948118037695924\n",
      "(1, of) -> 0.2948118037695924\n",
      "(1, common) -> 0.2948118037695924\n",
      "(1, words) -> 0.2948118037695924\n",
      "(1, and) -> 0.2948118037695924\n",
      "(1, highlights) -> 0.2948118037695924\n",
      "(1, unique) -> 0.2948118037695924\n",
      "(1, ones) -> 0.2948118037695924\n",
      "(2, word) -> 0.2187802511223572\n",
      "(2, in) -> 0.2187802511223572\n",
      "(2, document) -> 0.16990238180903908\n",
      "(2, the) -> 0.2187802511223572\n",
      "(2, higher) -> 0.28766973873039386\n",
      "(2, scores) -> 0.28766973873039386\n",
      "(2, mean) -> 0.28766973873039386\n",
      "(2, is) -> 0.28766973873039386\n",
      "(2, important) -> 0.28766973873039386\n",
      "(2, that) -> 0.28766973873039386\n",
      "(2, but) -> 0.28766973873039386\n",
      "(2, rare) -> 0.28766973873039386\n",
      "(2, across) -> 0.28766973873039386\n",
      "(2, others) -> 0.28766973873039386\n"
     ]
    }
   ],
   "source": [
    "# Convert CSR to COO format for easy access      \n",
    "coo = csr_transformed_vector.tocoo()\n",
    "# Print nonzero elements in (row, col) format\n",
    "for r, c, v in zip(coo.row, coo.col, coo.data):\n",
    "    print(f\"({r}, {reversed_vocabulary_dict[c]}) -> {v}\")"
   ]
  },
  {
   "cell_type": "code",
   "execution_count": null,
   "id": "ddfb73c4-b2eb-47ff-8143-976ac5a0193d",
   "metadata": {},
   "outputs": [],
   "source": []
  }
 ],
 "metadata": {
  "kernelspec": {
   "display_name": "Python 3 (ipykernel)",
   "language": "python",
   "name": "python3"
  },
  "language_info": {
   "codemirror_mode": {
    "name": "ipython",
    "version": 3
   },
   "file_extension": ".py",
   "mimetype": "text/x-python",
   "name": "python",
   "nbconvert_exporter": "python",
   "pygments_lexer": "ipython3",
   "version": "3.13.0"
  }
 },
 "nbformat": 4,
 "nbformat_minor": 5
}
